{
 "cells": [
  {
   "cell_type": "markdown",
   "metadata": {},
   "source": [
    "2.Random Password Generator  :Password must have capital,small,number,symbol,leng 8 plus generate  25 password for above employee?\n",
    "\n",
    "3.Find mean of salary, select employee making more than 50000, find employee having more than 10 years of exp.\n",
    "\n",
    "4.Plot \n",
    "\tHow many employees are male and female\n",
    "\tSalary vs exp\n",
    "5.save this data in folder in csv format\n",
    "6.save the plots\n",
    "\n",
    "\n",
    "\n",
    "\n"
   ]
  },
  {
   "cell_type": "markdown",
   "metadata": {},
   "source": [
    "2.Random Password Generator  :Password must have capital,small,number,symbol,leng 8 plus generate  25 password for above employee?"
   ]
  },
  {
   "cell_type": "code",
   "execution_count": 1,
   "metadata": {},
   "outputs": [],
   "source": [
    "capital=list(\"ABCDEFGHIJKLMNOPQRSTUVWXYZ\")\n",
    "small=list(\"abcdefghijklmnopqrstuvwxyz\")\n",
    "number=list(range(100))\n",
    "symbol=list(\"!@#$%^&*\")"
   ]
  },
  {
   "cell_type": "code",
   "execution_count": 2,
   "metadata": {},
   "outputs": [
    {
     "name": "stdout",
     "output_type": "stream",
     "text": [
      "['A', 'B', 'C', 'D', 'E', 'F', 'G', 'H', 'I', 'J', 'K', 'L', 'M', 'N', 'O', 'P', 'Q', 'R', 'S', 'T', 'U', 'V', 'W', 'X', 'Y', 'Z'] \n",
      "\n",
      " ['a', 'b', 'c', 'd', 'e', 'f', 'g', 'h', 'i', 'j', 'k', 'l', 'm', 'n', 'o', 'p', 'q', 'r', 's', 't', 'u', 'v', 'w', 'x', 'y', 'z'] \n",
      "\n",
      " [0, 1, 2, 3, 4, 5, 6, 7, 8, 9, 10, 11, 12, 13, 14, 15, 16, 17, 18, 19, 20, 21, 22, 23, 24, 25, 26, 27, 28, 29, 30, 31, 32, 33, 34, 35, 36, 37, 38, 39, 40, 41, 42, 43, 44, 45, 46, 47, 48, 49, 50, 51, 52, 53, 54, 55, 56, 57, 58, 59, 60, 61, 62, 63, 64, 65, 66, 67, 68, 69, 70, 71, 72, 73, 74, 75, 76, 77, 78, 79, 80, 81, 82, 83, 84, 85, 86, 87, 88, 89, 90, 91, 92, 93, 94, 95, 96, 97, 98, 99] \n",
      "\n",
      " ['!', '@', '#', '$', '%', '^', '&', '*']\n"
     ]
    }
   ],
   "source": [
    "print(capital,\"\\n\\n\",small,\"\\n\\n\",number,\"\\n\\n\",symbol)"
   ]
  },
  {
   "cell_type": "code",
   "execution_count": 6,
   "metadata": {},
   "outputs": [],
   "source": [
    "import random"
   ]
  },
  {
   "cell_type": "code",
   "execution_count": 7,
   "metadata": {},
   "outputs": [
    {
     "data": {
      "text/plain": [
       "[['J', 'K'], ['k', 'q'], [59, 56], ['*', '^']]"
      ]
     },
     "execution_count": 7,
     "metadata": {},
     "output_type": "execute_result"
    }
   ],
   "source": [
    "l=[] \n",
    "l.append(random.choices(capital,k=2))\n",
    "l.append(random.choices(small,k=2))\n",
    "l.append(random.choices(number,k=2))\n",
    "l.append(random.choices(symbol,k=2))\n",
    "l"
   ]
  },
  {
   "cell_type": "code",
   "execution_count": 16,
   "metadata": {},
   "outputs": [
    {
     "name": "stdout",
     "output_type": "stream",
     "text": [
      "25\n"
     ]
    },
    {
     "data": {
      "text/plain": [
       "['NSoo8379*^',\n",
       " 'GQjt8747^&',\n",
       " 'JMus235*$',\n",
       " 'UHfg2440$#',\n",
       " 'CDgb7820!%',\n",
       " 'AQpq5877@$',\n",
       " 'RNuz9937*^',\n",
       " 'WPdi8387*%',\n",
       " 'SSvj9789#*',\n",
       " 'LHzx1294@%',\n",
       " 'CPbl8281&$',\n",
       " 'UQud4258%@',\n",
       " 'IUur9910!!',\n",
       " 'GUls5434&#',\n",
       " 'KLby066%!',\n",
       " 'ACvx7542$#',\n",
       " 'ENka5986!$',\n",
       " 'LOlg9294$%',\n",
       " 'BAmb9661%!',\n",
       " 'LMja1089*$',\n",
       " 'YKgg1376!*',\n",
       " 'CXbh1330@&',\n",
       " 'DTzk873^#',\n",
       " 'RTsv2785#!',\n",
       " 'GRcd6511*!']"
      ]
     },
     "execution_count": 16,
     "metadata": {},
     "output_type": "execute_result"
    }
   ],
   "source": [
    "lst_big=[]\n",
    "count=0\n",
    "while count<25: \n",
    "    lst=[]\n",
    "    lst.append(random.choices(capital,k=2))\n",
    "    lst.append(random.choices(small,k=2))\n",
    "    lst.append(random.choices(number,k=2))\n",
    "    lst.append(random.choices(symbol,k=2))\n",
    "    count+=1\n",
    "    lst_big.append(lst)\n",
    "print(len(lst_big))\n",
    "\n",
    "password=[]\n",
    "count=0\n",
    "\n",
    "\n",
    "for sub in lst_big:\n",
    "    s=''\n",
    "    for l in sub:\n",
    "        for i in l:\n",
    "            s=s+str(i)\n",
    "    password.append(s)\n",
    "count+=1\n",
    "password"
   ]
  },
  {
   "cell_type": "code",
   "execution_count": 17,
   "metadata": {},
   "outputs": [],
   "source": [
    "import pandas as pd\n"
   ]
  },
  {
   "cell_type": "code",
   "execution_count": 19,
   "metadata": {},
   "outputs": [
    {
     "data": {
      "text/html": [
       "<div>\n",
       "<style scoped>\n",
       "    .dataframe tbody tr th:only-of-type {\n",
       "        vertical-align: middle;\n",
       "    }\n",
       "\n",
       "    .dataframe tbody tr th {\n",
       "        vertical-align: top;\n",
       "    }\n",
       "\n",
       "    .dataframe thead th {\n",
       "        text-align: right;\n",
       "    }\n",
       "</style>\n",
       "<table border=\"1\" class=\"dataframe\">\n",
       "  <thead>\n",
       "    <tr style=\"text-align: right;\">\n",
       "      <th></th>\n",
       "      <th>Unnamed: 0</th>\n",
       "      <th>id</th>\n",
       "      <th>name</th>\n",
       "      <th>gen</th>\n",
       "      <th>age</th>\n",
       "      <th>city</th>\n",
       "      <th>sal</th>\n",
       "      <th>total_exp</th>\n",
       "      <th>emp_comp</th>\n",
       "    </tr>\n",
       "  </thead>\n",
       "  <tbody>\n",
       "    <tr>\n",
       "      <th>0</th>\n",
       "      <td>0</td>\n",
       "      <td>101</td>\n",
       "      <td>sam</td>\n",
       "      <td>m</td>\n",
       "      <td>23</td>\n",
       "      <td>pune</td>\n",
       "      <td>40000</td>\n",
       "      <td>4</td>\n",
       "      <td>3</td>\n",
       "    </tr>\n",
       "    <tr>\n",
       "      <th>1</th>\n",
       "      <td>1</td>\n",
       "      <td>102</td>\n",
       "      <td>tom</td>\n",
       "      <td>m</td>\n",
       "      <td>25</td>\n",
       "      <td>mumbai</td>\n",
       "      <td>50000</td>\n",
       "      <td>5</td>\n",
       "      <td>4</td>\n",
       "    </tr>\n",
       "    <tr>\n",
       "      <th>2</th>\n",
       "      <td>2</td>\n",
       "      <td>103</td>\n",
       "      <td>reema</td>\n",
       "      <td>f</td>\n",
       "      <td>27</td>\n",
       "      <td>indore</td>\n",
       "      <td>60000</td>\n",
       "      <td>7</td>\n",
       "      <td>5</td>\n",
       "    </tr>\n",
       "    <tr>\n",
       "      <th>3</th>\n",
       "      <td>3</td>\n",
       "      <td>104</td>\n",
       "      <td>shefali</td>\n",
       "      <td>f</td>\n",
       "      <td>30</td>\n",
       "      <td>pune</td>\n",
       "      <td>70000</td>\n",
       "      <td>9</td>\n",
       "      <td>5</td>\n",
       "    </tr>\n",
       "    <tr>\n",
       "      <th>4</th>\n",
       "      <td>4</td>\n",
       "      <td>105</td>\n",
       "      <td>radhika</td>\n",
       "      <td>f</td>\n",
       "      <td>34</td>\n",
       "      <td>delhi</td>\n",
       "      <td>90000</td>\n",
       "      <td>10</td>\n",
       "      <td>9</td>\n",
       "    </tr>\n",
       "  </tbody>\n",
       "</table>\n",
       "</div>"
      ],
      "text/plain": [
       "   Unnamed: 0   id     name gen  age    city    sal  total_exp  emp_comp\n",
       "0           0  101      sam   m   23    pune  40000          4         3\n",
       "1           1  102      tom   m   25  mumbai  50000          5         4\n",
       "2           2  103    reema   f   27  indore  60000          7         5\n",
       "3           3  104  shefali   f   30    pune  70000          9         5\n",
       "4           4  105  radhika   f   34   delhi  90000         10         9"
      ]
     },
     "execution_count": 19,
     "metadata": {},
     "output_type": "execute_result"
    }
   ],
   "source": [
    "db=pd.read_csv(\"employee_data_25.csv\")\n",
    "db"
   ]
  },
  {
   "cell_type": "code",
   "execution_count": 21,
   "metadata": {},
   "outputs": [
    {
     "data": {
      "text/plain": [
       "['NSoo8379*^', 'GQjt8747^&', 'JMus235*$', 'UHfg2440$#', 'CDgb7820!%']"
      ]
     },
     "execution_count": 21,
     "metadata": {},
     "output_type": "execute_result"
    }
   ],
   "source": [
    "p_5=password[:5]\n",
    "p_5"
   ]
  },
  {
   "cell_type": "code",
   "execution_count": 22,
   "metadata": {},
   "outputs": [
    {
     "data": {
      "text/html": [
       "<div>\n",
       "<style scoped>\n",
       "    .dataframe tbody tr th:only-of-type {\n",
       "        vertical-align: middle;\n",
       "    }\n",
       "\n",
       "    .dataframe tbody tr th {\n",
       "        vertical-align: top;\n",
       "    }\n",
       "\n",
       "    .dataframe thead th {\n",
       "        text-align: right;\n",
       "    }\n",
       "</style>\n",
       "<table border=\"1\" class=\"dataframe\">\n",
       "  <thead>\n",
       "    <tr style=\"text-align: right;\">\n",
       "      <th></th>\n",
       "      <th>Unnamed: 0</th>\n",
       "      <th>id</th>\n",
       "      <th>name</th>\n",
       "      <th>gen</th>\n",
       "      <th>age</th>\n",
       "      <th>city</th>\n",
       "      <th>sal</th>\n",
       "      <th>total_exp</th>\n",
       "      <th>emp_comp</th>\n",
       "      <th>password</th>\n",
       "    </tr>\n",
       "  </thead>\n",
       "  <tbody>\n",
       "    <tr>\n",
       "      <th>0</th>\n",
       "      <td>0</td>\n",
       "      <td>101</td>\n",
       "      <td>sam</td>\n",
       "      <td>m</td>\n",
       "      <td>23</td>\n",
       "      <td>pune</td>\n",
       "      <td>40000</td>\n",
       "      <td>4</td>\n",
       "      <td>3</td>\n",
       "      <td>NSoo8379*^</td>\n",
       "    </tr>\n",
       "    <tr>\n",
       "      <th>1</th>\n",
       "      <td>1</td>\n",
       "      <td>102</td>\n",
       "      <td>tom</td>\n",
       "      <td>m</td>\n",
       "      <td>25</td>\n",
       "      <td>mumbai</td>\n",
       "      <td>50000</td>\n",
       "      <td>5</td>\n",
       "      <td>4</td>\n",
       "      <td>GQjt8747^&amp;</td>\n",
       "    </tr>\n",
       "    <tr>\n",
       "      <th>2</th>\n",
       "      <td>2</td>\n",
       "      <td>103</td>\n",
       "      <td>reema</td>\n",
       "      <td>f</td>\n",
       "      <td>27</td>\n",
       "      <td>indore</td>\n",
       "      <td>60000</td>\n",
       "      <td>7</td>\n",
       "      <td>5</td>\n",
       "      <td>JMus235*$</td>\n",
       "    </tr>\n",
       "    <tr>\n",
       "      <th>3</th>\n",
       "      <td>3</td>\n",
       "      <td>104</td>\n",
       "      <td>shefali</td>\n",
       "      <td>f</td>\n",
       "      <td>30</td>\n",
       "      <td>pune</td>\n",
       "      <td>70000</td>\n",
       "      <td>9</td>\n",
       "      <td>5</td>\n",
       "      <td>UHfg2440$#</td>\n",
       "    </tr>\n",
       "    <tr>\n",
       "      <th>4</th>\n",
       "      <td>4</td>\n",
       "      <td>105</td>\n",
       "      <td>radhika</td>\n",
       "      <td>f</td>\n",
       "      <td>34</td>\n",
       "      <td>delhi</td>\n",
       "      <td>90000</td>\n",
       "      <td>10</td>\n",
       "      <td>9</td>\n",
       "      <td>CDgb7820!%</td>\n",
       "    </tr>\n",
       "  </tbody>\n",
       "</table>\n",
       "</div>"
      ],
      "text/plain": [
       "   Unnamed: 0   id     name gen  age    city    sal  total_exp  emp_comp  \\\n",
       "0           0  101      sam   m   23    pune  40000          4         3   \n",
       "1           1  102      tom   m   25  mumbai  50000          5         4   \n",
       "2           2  103    reema   f   27  indore  60000          7         5   \n",
       "3           3  104  shefali   f   30    pune  70000          9         5   \n",
       "4           4  105  radhika   f   34   delhi  90000         10         9   \n",
       "\n",
       "     password  \n",
       "0  NSoo8379*^  \n",
       "1  GQjt8747^&  \n",
       "2   JMus235*$  \n",
       "3  UHfg2440$#  \n",
       "4  CDgb7820!%  "
      ]
     },
     "execution_count": 22,
     "metadata": {},
     "output_type": "execute_result"
    }
   ],
   "source": [
    "db[\"password\"]=p_5\n",
    "db"
   ]
  },
  {
   "cell_type": "markdown",
   "metadata": {},
   "source": [
    "\n",
    "3.Find mean of salary, select employee making more than 50000, find employee having more than 10 years of exp."
   ]
  },
  {
   "cell_type": "code",
   "execution_count": 24,
   "metadata": {},
   "outputs": [
    {
     "data": {
      "text/plain": [
       "62000.0"
      ]
     },
     "execution_count": 24,
     "metadata": {},
     "output_type": "execute_result"
    }
   ],
   "source": [
    "db.sal.mean()"
   ]
  },
  {
   "cell_type": "code",
   "execution_count": 29,
   "metadata": {},
   "outputs": [
    {
     "data": {
      "text/plain": [
       "0    False\n",
       "1    False\n",
       "2     True\n",
       "3     True\n",
       "4     True\n",
       "Name: sal, dtype: bool"
      ]
     },
     "execution_count": 29,
     "metadata": {},
     "output_type": "execute_result"
    }
   ],
   "source": [
    "db.sal>50000"
   ]
  },
  {
   "cell_type": "code",
   "execution_count": 31,
   "metadata": {},
   "outputs": [
    {
     "data": {
      "text/html": [
       "<div>\n",
       "<style scoped>\n",
       "    .dataframe tbody tr th:only-of-type {\n",
       "        vertical-align: middle;\n",
       "    }\n",
       "\n",
       "    .dataframe tbody tr th {\n",
       "        vertical-align: top;\n",
       "    }\n",
       "\n",
       "    .dataframe thead th {\n",
       "        text-align: right;\n",
       "    }\n",
       "</style>\n",
       "<table border=\"1\" class=\"dataframe\">\n",
       "  <thead>\n",
       "    <tr style=\"text-align: right;\">\n",
       "      <th></th>\n",
       "      <th>Unnamed: 0</th>\n",
       "      <th>id</th>\n",
       "      <th>name</th>\n",
       "      <th>gen</th>\n",
       "      <th>age</th>\n",
       "      <th>city</th>\n",
       "      <th>sal</th>\n",
       "      <th>total_exp</th>\n",
       "      <th>emp_comp</th>\n",
       "      <th>password</th>\n",
       "    </tr>\n",
       "  </thead>\n",
       "  <tbody>\n",
       "    <tr>\n",
       "      <th>2</th>\n",
       "      <td>2</td>\n",
       "      <td>103</td>\n",
       "      <td>reema</td>\n",
       "      <td>f</td>\n",
       "      <td>27</td>\n",
       "      <td>indore</td>\n",
       "      <td>60000</td>\n",
       "      <td>7</td>\n",
       "      <td>5</td>\n",
       "      <td>JMus235*$</td>\n",
       "    </tr>\n",
       "    <tr>\n",
       "      <th>3</th>\n",
       "      <td>3</td>\n",
       "      <td>104</td>\n",
       "      <td>shefali</td>\n",
       "      <td>f</td>\n",
       "      <td>30</td>\n",
       "      <td>pune</td>\n",
       "      <td>70000</td>\n",
       "      <td>9</td>\n",
       "      <td>5</td>\n",
       "      <td>UHfg2440$#</td>\n",
       "    </tr>\n",
       "    <tr>\n",
       "      <th>4</th>\n",
       "      <td>4</td>\n",
       "      <td>105</td>\n",
       "      <td>radhika</td>\n",
       "      <td>f</td>\n",
       "      <td>34</td>\n",
       "      <td>delhi</td>\n",
       "      <td>90000</td>\n",
       "      <td>10</td>\n",
       "      <td>9</td>\n",
       "      <td>CDgb7820!%</td>\n",
       "    </tr>\n",
       "  </tbody>\n",
       "</table>\n",
       "</div>"
      ],
      "text/plain": [
       "   Unnamed: 0   id     name gen  age    city    sal  total_exp  emp_comp  \\\n",
       "2           2  103    reema   f   27  indore  60000          7         5   \n",
       "3           3  104  shefali   f   30    pune  70000          9         5   \n",
       "4           4  105  radhika   f   34   delhi  90000         10         9   \n",
       "\n",
       "     password  \n",
       "2   JMus235*$  \n",
       "3  UHfg2440$#  \n",
       "4  CDgb7820!%  "
      ]
     },
     "execution_count": 31,
     "metadata": {},
     "output_type": "execute_result"
    }
   ],
   "source": [
    "db.loc[db.sal>50000]"
   ]
  },
  {
   "cell_type": "code",
   "execution_count": 36,
   "metadata": {},
   "outputs": [
    {
     "data": {
      "text/html": [
       "<div>\n",
       "<style scoped>\n",
       "    .dataframe tbody tr th:only-of-type {\n",
       "        vertical-align: middle;\n",
       "    }\n",
       "\n",
       "    .dataframe tbody tr th {\n",
       "        vertical-align: top;\n",
       "    }\n",
       "\n",
       "    .dataframe thead th {\n",
       "        text-align: right;\n",
       "    }\n",
       "</style>\n",
       "<table border=\"1\" class=\"dataframe\">\n",
       "  <thead>\n",
       "    <tr style=\"text-align: right;\">\n",
       "      <th></th>\n",
       "      <th>Unnamed: 0</th>\n",
       "      <th>id</th>\n",
       "      <th>name</th>\n",
       "      <th>gen</th>\n",
       "      <th>age</th>\n",
       "      <th>city</th>\n",
       "      <th>sal</th>\n",
       "      <th>total_exp</th>\n",
       "      <th>emp_comp</th>\n",
       "      <th>password</th>\n",
       "    </tr>\n",
       "  </thead>\n",
       "  <tbody>\n",
       "    <tr>\n",
       "      <th>3</th>\n",
       "      <td>3</td>\n",
       "      <td>104</td>\n",
       "      <td>shefali</td>\n",
       "      <td>f</td>\n",
       "      <td>30</td>\n",
       "      <td>pune</td>\n",
       "      <td>70000</td>\n",
       "      <td>9</td>\n",
       "      <td>5</td>\n",
       "      <td>UHfg2440$#</td>\n",
       "    </tr>\n",
       "    <tr>\n",
       "      <th>4</th>\n",
       "      <td>4</td>\n",
       "      <td>105</td>\n",
       "      <td>radhika</td>\n",
       "      <td>f</td>\n",
       "      <td>34</td>\n",
       "      <td>delhi</td>\n",
       "      <td>90000</td>\n",
       "      <td>10</td>\n",
       "      <td>9</td>\n",
       "      <td>CDgb7820!%</td>\n",
       "    </tr>\n",
       "  </tbody>\n",
       "</table>\n",
       "</div>"
      ],
      "text/plain": [
       "   Unnamed: 0   id     name gen  age   city    sal  total_exp  emp_comp  \\\n",
       "3           3  104  shefali   f   30   pune  70000          9         5   \n",
       "4           4  105  radhika   f   34  delhi  90000         10         9   \n",
       "\n",
       "     password  \n",
       "3  UHfg2440$#  \n",
       "4  CDgb7820!%  "
      ]
     },
     "execution_count": 36,
     "metadata": {},
     "output_type": "execute_result"
    }
   ],
   "source": [
    "db.loc[db.total_exp>7]#10 plus exp not in my data for now"
   ]
  },
  {
   "cell_type": "markdown",
   "metadata": {},
   "source": [
    "\n",
    "4.Plot \n",
    "\tHow many employees are male and female\n",
    "\tSalary vs exp\n",
    "\n",
    "5.save this data in folder in csv format\n",
    "\n",
    "6.save the plots"
   ]
  },
  {
   "cell_type": "code",
   "execution_count": 39,
   "metadata": {},
   "outputs": [
    {
     "name": "stderr",
     "output_type": "stream",
     "text": [
      "UsageError: Line magic function `%` not found.\n"
     ]
    }
   ],
   "source": [
    "import matplotlib.pyplot as plt\n",
    "% matplotlib inline"
   ]
  },
  {
   "cell_type": "code",
   "execution_count": 42,
   "metadata": {},
   "outputs": [
    {
     "data": {
      "text/html": [
       "<div>\n",
       "<style scoped>\n",
       "    .dataframe tbody tr th:only-of-type {\n",
       "        vertical-align: middle;\n",
       "    }\n",
       "\n",
       "    .dataframe tbody tr th {\n",
       "        vertical-align: top;\n",
       "    }\n",
       "\n",
       "    .dataframe thead th {\n",
       "        text-align: right;\n",
       "    }\n",
       "</style>\n",
       "<table border=\"1\" class=\"dataframe\">\n",
       "  <thead>\n",
       "    <tr style=\"text-align: right;\">\n",
       "      <th></th>\n",
       "      <th>Unnamed: 0</th>\n",
       "      <th>id</th>\n",
       "      <th>name</th>\n",
       "      <th>gen</th>\n",
       "      <th>age</th>\n",
       "      <th>city</th>\n",
       "      <th>sal</th>\n",
       "      <th>total_exp</th>\n",
       "      <th>emp_comp</th>\n",
       "      <th>password</th>\n",
       "    </tr>\n",
       "  </thead>\n",
       "  <tbody>\n",
       "    <tr>\n",
       "      <th>0</th>\n",
       "      <td>0</td>\n",
       "      <td>101</td>\n",
       "      <td>sam</td>\n",
       "      <td>m</td>\n",
       "      <td>23</td>\n",
       "      <td>pune</td>\n",
       "      <td>40000</td>\n",
       "      <td>4</td>\n",
       "      <td>3</td>\n",
       "      <td>NSoo8379*^</td>\n",
       "    </tr>\n",
       "    <tr>\n",
       "      <th>1</th>\n",
       "      <td>1</td>\n",
       "      <td>102</td>\n",
       "      <td>tom</td>\n",
       "      <td>m</td>\n",
       "      <td>25</td>\n",
       "      <td>mumbai</td>\n",
       "      <td>50000</td>\n",
       "      <td>5</td>\n",
       "      <td>4</td>\n",
       "      <td>GQjt8747^&amp;</td>\n",
       "    </tr>\n",
       "    <tr>\n",
       "      <th>2</th>\n",
       "      <td>2</td>\n",
       "      <td>103</td>\n",
       "      <td>reema</td>\n",
       "      <td>f</td>\n",
       "      <td>27</td>\n",
       "      <td>indore</td>\n",
       "      <td>60000</td>\n",
       "      <td>7</td>\n",
       "      <td>5</td>\n",
       "      <td>JMus235*$</td>\n",
       "    </tr>\n",
       "    <tr>\n",
       "      <th>3</th>\n",
       "      <td>3</td>\n",
       "      <td>104</td>\n",
       "      <td>shefali</td>\n",
       "      <td>f</td>\n",
       "      <td>30</td>\n",
       "      <td>pune</td>\n",
       "      <td>70000</td>\n",
       "      <td>9</td>\n",
       "      <td>5</td>\n",
       "      <td>UHfg2440$#</td>\n",
       "    </tr>\n",
       "    <tr>\n",
       "      <th>4</th>\n",
       "      <td>4</td>\n",
       "      <td>105</td>\n",
       "      <td>radhika</td>\n",
       "      <td>f</td>\n",
       "      <td>34</td>\n",
       "      <td>delhi</td>\n",
       "      <td>90000</td>\n",
       "      <td>10</td>\n",
       "      <td>9</td>\n",
       "      <td>CDgb7820!%</td>\n",
       "    </tr>\n",
       "  </tbody>\n",
       "</table>\n",
       "</div>"
      ],
      "text/plain": [
       "   Unnamed: 0   id     name gen  age    city    sal  total_exp  emp_comp  \\\n",
       "0           0  101      sam   m   23    pune  40000          4         3   \n",
       "1           1  102      tom   m   25  mumbai  50000          5         4   \n",
       "2           2  103    reema   f   27  indore  60000          7         5   \n",
       "3           3  104  shefali   f   30    pune  70000          9         5   \n",
       "4           4  105  radhika   f   34   delhi  90000         10         9   \n",
       "\n",
       "     password  \n",
       "0  NSoo8379*^  \n",
       "1  GQjt8747^&  \n",
       "2   JMus235*$  \n",
       "3  UHfg2440$#  \n",
       "4  CDgb7820!%  "
      ]
     },
     "execution_count": 42,
     "metadata": {},
     "output_type": "execute_result"
    }
   ],
   "source": [
    "db"
   ]
  },
  {
   "cell_type": "code",
   "execution_count": 43,
   "metadata": {
    "scrolled": true
   },
   "outputs": [
    {
     "data": {
      "image/png": "[encoded data removed]",
      "text/plain": [
       "<Figure size 432x288 with 1 Axes>"
      ]
     },
     "metadata": {
      "needs_background": "light"
     },
     "output_type": "display_data"
    }
   ],
   "source": [
    "plt.hist(db.gen)\n",
    "plt.show()"
   ]
  },
  {
   "cell_type": "code",
   "execution_count": 50,
   "metadata": {},
   "outputs": [
    {
     "data": {
      "image/png": "[encoded data removed]",
      "text/plain": [
       "<Figure size 432x288 with 1 Axes>"
      ]
     },
     "metadata": {
      "needs_background": "light"
     },
     "output_type": "display_data"
    }
   ],
   "source": [
    "plt.plot(db.sal,db.total_exp)\n",
    "plt.show()"
   ]
  },
  {
   "cell_type": "code",
   "execution_count": 67,
   "metadata": {},
   "outputs": [
    {
     "data": {
      "image/png": "[encoded data removed]",
      "text/plain": [
       "<Figure size 432x288 with 1 Axes>"
      ]
     },
     "metadata": {
      "needs_background": "light"
     },
     "output_type": "display_data"
    }
   ],
   "source": [
    "fig=plt.plot(db.sal,db.total_exp,label=\"Salary VS Experience\")\n",
    "plt.xlabel(\"Years\")\n",
    "plt.ylabel(\"Salary\")\n",
    "plt.legend()\n",
    "plt.savefig(\"Sal_vs_exp.png\")\n",
    "\n",
    "plt.show()"
   ]
  },
  {
   "cell_type": "code",
   "execution_count": null,
   "metadata": {},
   "outputs": [],
   "source": []
  },
  {
   "cell_type": "code",
   "execution_count": 68,
   "metadata": {},
   "outputs": [
    {
     "data": {
      "image/png": "[encoded data removed]",
      "text/plain": [
       "<IPython.core.display.Image object>"
      ]
     },
     "execution_count": 68,
     "metadata": {},
     "output_type": "execute_result"
    }
   ],
   "source": [
    "from IPython.display import Image\n",
    "img = 'Sal_vs_exp.png'\n",
    "#Image(url=img)\n",
    "Image(filename=img)"
   ]
  },
  {
   "cell_type": "code",
   "execution_count": null,
   "metadata": {},
   "outputs": [],
   "source": []
  }
 ],
 "metadata": {
  "kernelspec": {
   "display_name": "Python 3",
   "language": "python",
   "name": "python3"
  },
  "language_info": {
   "codemirror_mode": {
    "name": "ipython",
    "version": 3
   },
   "file_extension": ".py",
   "mimetype": "text/x-python",
   "name": "python",
   "nbconvert_exporter": "python",
   "pygments_lexer": "ipython3",
   "version": "3.8.2"
  }
 },
 "nbformat": 4,
 "nbformat_minor": 4
}
